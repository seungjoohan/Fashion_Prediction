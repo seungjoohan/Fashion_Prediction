{
 "cells": [
  {
   "cell_type": "code",
   "execution_count": 1,
   "id": "feb16fe8",
   "metadata": {},
   "outputs": [],
   "source": [
    "import awscli\n",
    "import boto3\n",
    "\n",
    "import numpy as np\n",
    "import pandas as pd\n",
    "import cv2\n",
    "from PIL import Image\n",
    "from io import BytesIO\n",
    "import io\n",
    "import matplotlib.pyplot as plt\n",
    "\n",
    "import torch\n",
    "from torch.utils.data import Dataset, DataLoader\n",
    "import torch.nn as nn\n",
    "import torch.optim as optim\n",
    "\n",
    "import torchvision\n",
    "from torchvision import models, transforms\n",
    "# import albumentations as A\n",
    "# from albumentations.pytorch import ToTensorV2\n",
    "\n",
    "from tqdm.notebook import tqdm"
   ]
  },
  {
   "cell_type": "code",
   "execution_count": 2,
   "id": "b297a40b",
   "metadata": {},
   "outputs": [],
   "source": [
    "BUCKET_NAME = 'msds-fashion' \n",
    "\n",
    "# enter authentication credentials\n",
    "s3 = boto3.client('s3', aws_access_key_id = '####', \n",
    "                          aws_secret_access_key= '####')"
   ]
  },
  {
   "cell_type": "code",
   "execution_count": 3,
   "id": "4a70325b",
   "metadata": {},
   "outputs": [],
   "source": [
    "response = s3.get_object(Bucket= BUCKET_NAME, Key = 'data/train_labels.csv')\n",
    "train = pd.read_csv(response.get('Body'))\n",
    "response = s3.get_object(Bucket= BUCKET_NAME, Key = 'data/test_labels.csv')\n",
    "test = pd.read_csv(response.get('Body'))"
   ]
  },
  {
   "cell_type": "code",
   "execution_count": 4,
   "id": "557699d3",
   "metadata": {},
   "outputs": [
    {
     "data": {
      "text/plain": [
       "(249222, 40000)"
      ]
     },
     "execution_count": 4,
     "metadata": {},
     "output_type": "execute_result"
    }
   ],
   "source": [
    "len(train),len(test)"
   ]
  },
  {
   "cell_type": "code",
   "execution_count": 5,
   "id": "c8ad50d6",
   "metadata": {},
   "outputs": [
    {
     "data": {
      "text/plain": [
       "46"
      ]
     },
     "execution_count": 5,
     "metadata": {},
     "output_type": "execute_result"
    }
   ],
   "source": [
    "len(np.unique(train.category_name))"
   ]
  },
  {
   "cell_type": "code",
   "execution_count": 6,
   "id": "e927a400",
   "metadata": {},
   "outputs": [
    {
     "data": {
      "text/plain": [
       "device(type='cpu')"
      ]
     },
     "execution_count": 6,
     "metadata": {},
     "output_type": "execute_result"
    }
   ],
   "source": [
    "device_no = 0\n",
    "if torch.cuda.is_available() == True:\n",
    "    device = torch.device(device_no)\n",
    "else:\n",
    "    device = torch.device('cpu')\n",
    "device"
   ]
  },
  {
   "cell_type": "code",
   "execution_count": 7,
   "id": "8dbe9714",
   "metadata": {},
   "outputs": [],
   "source": [
    "class FashionDataset(Dataset):\n",
    "  def __init__(self,df):\n",
    "    self.df = df\n",
    "    self.s3 = boto3.resource('s3', aws_access_key_id = '####', \n",
    "                          aws_secret_access_key= '####',\n",
    "                          region_name= 'us-west-2')\n",
    "    \n",
    "    self.bucket = self.s3.Bucket('msds-fashion')\n",
    "    self.label_dict = {o:i for i,o in enumerate(np.unique(train.category_name))}\n",
    "\n",
    "  def __len__(self):\n",
    "    return len(self.df)\n",
    "\n",
    "  def __getitem__(self, idx):\n",
    "    row = self.df.iloc[idx]\n",
    "    key = '/'.join(row.image_name.split('\\\\'))\n",
    "    obj = self.bucket.Object(key).get()['Body'].read()\n",
    "    image_arr = cv2.imdecode(np.asarray(bytearray(obj)), cv2.IMREAD_COLOR)\n",
    "    \n",
    "    img = cv2.cvtColor(image_arr, cv2.COLOR_BGR2RGB)\n",
    "    img = cv2.resize(img, (224,224))\n",
    "    img = np.transpose(img, (2,0,1))\n",
    "\n",
    "    img = torch.tensor(img/255.).float()\n",
    "    label = torch.tensor(self.label_dict[row['category_name']])\n",
    "\n",
    "    return img, label"
   ]
  },
  {
   "cell_type": "code",
   "execution_count": 8,
   "id": "75f71558",
   "metadata": {},
   "outputs": [],
   "source": [
    "train_ds = FashionDataset(train)\n",
    "train_dl = DataLoader(train_ds, batch_size= 1000, shuffle=True)\n",
    "valid_ds = FashionDataset(test)\n",
    "valid_dl = DataLoader(valid_ds, batch_size= 1000, shuffle=False)"
   ]
  },
  {
   "cell_type": "code",
   "execution_count": 9,
   "id": "4eb0cdd8",
   "metadata": {},
   "outputs": [],
   "source": [
    "def one_pass(model, dataloader, optimizer, lossFun, device, backwards=True, print_loss=False):\n",
    "    \n",
    "    if backwards == True:\n",
    "        model.train()\n",
    "    else:\n",
    "        model.eval()\n",
    "    \n",
    "    total_loss = 0.0\n",
    "    for x, y in tqdm(dataloader):\n",
    "        \n",
    "        # send labelled data to the device\n",
    "        x, y = x.to(device), y.to(device)\n",
    "        \n",
    "        y_pred = model(x)\n",
    "        loss = lossFun(y_pred, y)\n",
    "        total_loss += loss.item()\n",
    "        \n",
    "        if backwards == True:\n",
    "            optimizer.zero_grad()\n",
    "            loss.backward()\n",
    "            optimizer.step()\n",
    "    avg_loss = total_loss / len(dataloader)\n",
    "    \n",
    "    if print_loss == True:\n",
    "        print(avg_loss)\n",
    "    \n",
    "    return avg_loss\n",
    "\n",
    "def one_pass_acc(model, dataloader, num_points):\n",
    "  model.eval()\n",
    "  total_incorrect = 0\n",
    "\n",
    "  softmax = nn.LogSoftmax(dim=1)\n",
    "\n",
    "  for x, y in dataloader:\n",
    "    x,y = x.to(device), y.to(device)\n",
    "    y_pred = softmax(model(x))\n",
    "    y_pred = torch.argmax(y_pred, dim=1)\n",
    "\n",
    "    total_incorrect += torch.count_nonzero(y-y_pred).item()\n",
    "\n",
    "  percent_wrong = total_incorrect / num_points\n",
    "  return 1- percent_wrong"
   ]
  },
  {
   "cell_type": "markdown",
   "id": "7314e234",
   "metadata": {},
   "source": [
    "## Load fine-tuned Parameters for ResNet-18"
   ]
  },
  {
   "cell_type": "code",
   "execution_count": 10,
   "id": "d23abbeb",
   "metadata": {},
   "outputs": [
    {
     "name": "stdout",
     "output_type": "stream",
     "text": [
      "Linear(in_features=512, out_features=46, bias=True)\n"
     ]
    },
    {
     "data": {
      "text/plain": [
       "<All keys matched successfully>"
      ]
     },
     "execution_count": 10,
     "metadata": {},
     "output_type": "execute_result"
    }
   ],
   "source": [
    "model = models.resnet18(pretrained=True).to(device)\n",
    "model.fc = nn.Linear(512,46)\n",
    "print(model.fc)\n",
    "pretrained = torch.load('models/resnet18_full_1epoch.pth', map_location='cpu')\n",
    "model.load_state_dict(pretrained)"
   ]
  },
  {
   "cell_type": "code",
   "execution_count": 11,
   "id": "93bdd761",
   "metadata": {},
   "outputs": [
    {
     "name": "stdout",
     "output_type": "stream",
     "text": [
      "Train Acc:  0.5044578729004663\n",
      "Valid Acc:  0.496275\n"
     ]
    }
   ],
   "source": [
    "# getting accuracy missed due to typo\n",
    "train_acc = one_pass_acc(model.to(device), train_dl, len(train_ds))\n",
    "valid_acc = one_pass_acc(model.to(device), valid_dl, len(valid_ds))\n",
    "print('Train Acc: ', train_acc)\n",
    "print('Valid Acc: ', valid_acc)"
   ]
  }
 ],
 "metadata": {
  "kernelspec": {
   "display_name": "Python 3 (ipykernel)",
   "language": "python",
   "name": "python3"
  },
  "language_info": {
   "codemirror_mode": {
    "name": "ipython",
    "version": 3
   },
   "file_extension": ".py",
   "mimetype": "text/x-python",
   "name": "python",
   "nbconvert_exporter": "python",
   "pygments_lexer": "ipython3",
   "version": "3.9.13"
  }
 },
 "nbformat": 4,
 "nbformat_minor": 5
}
